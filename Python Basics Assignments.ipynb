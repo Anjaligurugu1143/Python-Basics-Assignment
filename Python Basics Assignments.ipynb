{
 "cells": [
  {
   "cell_type": "markdown",
   "id": "4583aa45-047a-4fac-bb7a-42cc387a5571",
   "metadata": {},
   "source": [
    "# 1.Explain the key features of Python that make it a popular choice for programming.                                      "
   ]
  },
  {
   "cell_type": "raw",
   "id": "13d5d39d-1de7-487c-8ec8-f6304ed947e5",
   "metadata": {},
   "source": [
    "Python is one of the most popular programming language especially in the field of\n",
    "Data Science.The excellent features of python makes it one of the best programming\n",
    "language.\n",
    "Some of the features of Python are as follows:\n",
    "● Python programming language is widely used in the industry now-a-days.\n",
    "● Python programming is one of the most important skills required to be in any Data Industry.\n",
    "● It supports a vast set of libraries(a piece of code that can be reused which is well-structured, well-optimized are already kept ).\n",
    "There are more than 137000 libraries in Python programming language.\n",
    "● Ease of learning - It is the easiest programming language to learn even for someone with zero programming knowledge.\n",
    "● It has a very simple syntax compared to other programming languages like C,C++ Java etc.\n",
    "● Versatility - It is used in many fields like web development , machine learning etc.\n",
    "● It is very much easy to read and write the python code even for the beginner.\n",
    "● The Python programming language has a huge and active community.\n",
    "● The Python code can be used in any platform that is in any operating system like Windows ,Ubuntu ,Mac etc.\n",
    "All these features make the Python programming language a popular choice for programming and one of the most popular languages in the field of\n",
    "Data Science."
   ]
  },
  {
   "cell_type": "markdown",
   "id": "4930ebda-1ef8-4b36-ad96-46d671d8a754",
   "metadata": {},
   "source": [
    "# 2.Describe the role of predefined keywords in Python and provide examples of how they are used in a program."
   ]
  },
  {
   "cell_type": "raw",
   "id": "9101ae8c-76b4-46f4-8ecb-cf8b818f9830",
   "metadata": {},
   "source": [
    "Keywords are predefined words that hold a special meaning and have specific purpose in Python.The keywords cannot be used for variable names , \n",
    "function names and identifiers.The keywords are used to write the logic .\n",
    "They are fundamental to Python’s structure and control flow, helping define the way code is written and executed.\n",
    "Some of the keywords and their uses are as follows:\n",
    "● If , elif , else : used in conditional statements\n",
    "● For , while : used in looping statements\n",
    "● import : used to import modules like math etc\n",
    "● try, except , finally : used in exception handling\n",
    "● return : used to return a value from a function\n",
    "● break , continue : used to control the flow of loops\n",
    "● and , or , not : logical operators used in combining conditions\n",
    "● True , False : boolean values and many more other keywords.\n",
    "Keywords play an important role in identifying the method of executing the program code.\n",
    "help(‘keywords’) gives the list of keywords."
   ]
  },
  {
   "cell_type": "code",
   "execution_count": 10,
   "id": "18421639-68a7-416a-a5c8-98d8defc59d0",
   "metadata": {},
   "outputs": [
    {
     "name": "stdout",
     "output_type": "stream",
     "text": [
      "x is greater than 5\n"
     ]
    }
   ],
   "source": [
    "x = 10\n",
    "if x > 5:\n",
    "    print(\"x is greater than 5\")\n",
    "elif x == 5:\n",
    "    print(\"x is equal to 5\")\n",
    "else:\n",
    "    print(\"x is less than 5\")"
   ]
  },
  {
   "cell_type": "code",
   "execution_count": 11,
   "id": "a9b22bc9-4ad6-4393-9dbf-58ff51e86ce5",
   "metadata": {},
   "outputs": [
    {
     "name": "stdout",
     "output_type": "stream",
     "text": [
      "Hello, Anju!\n"
     ]
    }
   ],
   "source": [
    "def greet(name):\n",
    "    return f\"Hello, {name}!\"\n",
    "print(greet(\"Anju\"))"
   ]
  },
  {
   "cell_type": "markdown",
   "id": "1a040a07-6d28-4e09-9b1e-e66b748eab13",
   "metadata": {},
   "source": [
    "# 3.Compare and contrast mutable and immutable objects in Python with examples."
   ]
  },
  {
   "cell_type": "raw",
   "id": "bfea1f8b-6ecf-41de-af56-284b13c55008",
   "metadata": {},
   "source": [
    "Mutable objects:\n",
    "Objects or containers whose state or value can be changed after they are created are\n",
    "called “mutable objects or containers”.\n",
    "Simply , objects that can be modified after creation.\n",
    "Lists and dictionaries are examples.\n",
    "\n",
    "Immutable objects:\n",
    "Objects or containers whose state or value cannot be changed after they are created are\n",
    "called “immutable objects or containers”.\n",
    "Simply , objects that cannot be modified after creation or that does not support item\n",
    "assignment.\n",
    "Tuples and strings are examples."
   ]
  },
  {
   "cell_type": "markdown",
   "id": "45decbc5-bef3-4d6d-b4e7-005a975f8a4f",
   "metadata": {},
   "source": [
    "# 4.Discuss the different types of operators in Python and provide examples of how they are used."
   ]
  },
  {
   "cell_type": "raw",
   "id": "5332c865-dd9b-4023-95e5-8185af5c238f",
   "metadata": {},
   "source": [
    "Operators are special symbols or keywords that are used to carry out specific\n",
    "actions on numbers or variables in Python expressions.\n",
    "We need operators to manage , do computations and to make decisions using data.\n",
    "These are of the following types:\n",
    "1. Arithmetic Operators :\n",
    "+(addition) , -(subtraction) , *(multiplication) , /(division) , %(modulus) ,**(power)\n",
    "2. Comparison Operators:\n",
    "Compare two values and return a boolean value.\n",
    "==(is equal to) , <(less than) , >(greater than) , <=(less than or equal to) , >=(greater\n",
    "than or equal to) , !=(not equal to)\n",
    "3. Logical Operators :\n",
    "AND , OR , NOT\n",
    "4. Assignment Operator :\n",
    "=(is equal to) , += , –= , *=, /=\n",
    "5. Membership Operator:\n",
    "in : returns True if it is present in the given string , otherwise False\n",
    "not in : returns True if it is not present in the given string , otherwise False\n",
    "6. Identity Operator :\n",
    "Compares the location of two objects or variables.\n",
    "is : returns True if location of the two strings are same , otherwise False\n",
    "is not : returns True if location of the two strings are different , otherwise False\n",
    "7. Bitwise Operators :\n",
    "Bitwise AND\n",
    "Bitwise OR\n",
    "Bitwise NOT\n",
    "Bitwise XOR\n",
    "Left shift\n",
    "Right shift\n",
    "Execution of Python statements are based on the order of precedence and the\n",
    "associativity."
   ]
  },
  {
   "cell_type": "markdown",
   "id": "6783ec62-7e00-4716-9a3f-1d283d5a9cb9",
   "metadata": {},
   "source": [
    "# 5.Explain the concept of type casting in Python with examples."
   ]
  },
  {
   "cell_type": "raw",
   "id": "bd380785-1ce7-416d-a7d5-f6d3cea7d8be",
   "metadata": {},
   "source": [
    "Type casting is also called as type conversion.\n",
    "It is the process of changing the data type of a value or variable.\n",
    "This is done because there can be mismatch between the data types while execution or\n",
    "computation using operators.\n",
    "It is of two types:\n",
    "1.Implicit type casting :\n",
    "Python understands the data type and converts the lower data type to the highest\n",
    "data type.\n",
    "2.explicit type casting :\n",
    "Type casting is done by the programmer.Data type is converted using built-in\n",
    "functions such as str() , int() , float() etc."
   ]
  },
  {
   "cell_type": "code",
   "execution_count": 8,
   "id": "ccefa32d-1598-4f53-8f40-281a0e26dda1",
   "metadata": {},
   "outputs": [
    {
     "name": "stdout",
     "output_type": "stream",
     "text": [
      "x is of type: <class 'int'>\n",
      "y is of type: <class 'float'>\n",
      "z is of type: <class 'float'>\n",
      "z = 13.14\n"
     ]
    }
   ],
   "source": [
    "# Implicit type conversion\n",
    "x = 10\n",
    "y = 3.14\n",
    "z = x + y\n",
    "print(\"x is of type:\", type(x))\n",
    "print(\"y is of type:\", type(y))\n",
    "print(\"z is of type:\", type(z))\n",
    "print(\"z =\", z)"
   ]
  },
  {
   "cell_type": "code",
   "execution_count": 9,
   "id": "b70c58cb-142c-4fb0-b900-978f40448267",
   "metadata": {},
   "outputs": [
    {
     "name": "stdout",
     "output_type": "stream",
     "text": [
      "x is of type: <class 'float'>\n",
      "y is of type: <class 'int'>\n",
      "y = 5\n"
     ]
    }
   ],
   "source": [
    "#Explicit type conversion\n",
    "x = 5.67\n",
    "y = int(x)\n",
    "print(\"x is of type:\", type(x))\n",
    "print(\"y is of type:\", type(y))\n",
    "print(\"y =\", y)"
   ]
  },
  {
   "cell_type": "markdown",
   "id": "11ddf75a-7b01-47c5-9d25-877bab69e83a",
   "metadata": {},
   "source": [
    "# 6.How do conditional statements work in Python? Illustrate with examples."
   ]
  },
  {
   "cell_type": "raw",
   "id": "3a7aedd7-f3bf-4623-b7e3-df8d6d2c8fa5",
   "metadata": {},
   "source": [
    "Conditionals in Python are used to execute code based on the evaluation\n",
    "of one or more conditions.\n",
    "Python supports conditional statements such as if, elif (else if), and else to\n",
    "control the flow of execution.\n",
    "Conditionals can be nested to handle multiple conditions and control\n",
    "different branches of execution based on the outcome of logical\n",
    "expressions.\n",
    "Examples are:\n",
    "● if\n",
    "● if-else\n",
    "● if-elif-else\n",
    "● nested if-else"
   ]
  },
  {
   "cell_type": "code",
   "execution_count": 2,
   "id": "2a7dc02a-9f0d-49f2-ad81-65b483cd189a",
   "metadata": {},
   "outputs": [
    {
     "name": "stdout",
     "output_type": "stream",
     "text": [
      "x is greater than 5\n"
     ]
    }
   ],
   "source": [
    "#if \n",
    "x = 10\n",
    "if x > 5:\n",
    "    print(\"x is greater than 5\")"
   ]
  },
  {
   "cell_type": "code",
   "execution_count": 3,
   "id": "e5d29441-7bde-4b56-ba01-ca05922b3bf9",
   "metadata": {},
   "outputs": [
    {
     "name": "stdout",
     "output_type": "stream",
     "text": [
      "x is less than or equal to 5\n"
     ]
    }
   ],
   "source": [
    "#if-else\n",
    "x = 3\n",
    "if x > 5:\n",
    "    print(\"x is greater than 5\")\n",
    "else:\n",
    "    print(\"x is less than or equal to 5\")"
   ]
  },
  {
   "cell_type": "code",
   "execution_count": 4,
   "id": "68929d99-af60-45eb-b997-49603b5a5048",
   "metadata": {},
   "outputs": [
    {
     "name": "stdout",
     "output_type": "stream",
     "text": [
      "x is equal to 7\n"
     ]
    }
   ],
   "source": [
    "#if-elif-else\n",
    "x = 7\n",
    "if x > 10:\n",
    "    print(\"x is greater than 10\")\n",
    "elif x == 7:\n",
    "    print(\"x is equal to 7\")\n",
    "else:\n",
    "    print(\"x is less than 7\")"
   ]
  },
  {
   "cell_type": "code",
   "execution_count": 5,
   "id": "1b369578-ceac-4eb8-9bd0-6a654adbb9d4",
   "metadata": {},
   "outputs": [
    {
     "name": "stdout",
     "output_type": "stream",
     "text": [
      "x is greater than 10\n",
      "x is an odd number\n"
     ]
    }
   ],
   "source": [
    "#nested if-else\n",
    "x = 15\n",
    "if x > 10:\n",
    "    print(\"x is greater than 10\")\n",
    "    if x % 2 == 0:\n",
    "        print(\"x is also an even number\")\n",
    "    else:\n",
    "        print(\"x is an odd number\")\n",
    "else:\n",
    "    print(\"x is 10 or less\")"
   ]
  },
  {
   "cell_type": "markdown",
   "id": "cace0c4a-0d1c-47b8-9530-8e4b6afc602f",
   "metadata": {},
   "source": [
    "# 7.Describe the different types of loops in Python and their use cases with examples."
   ]
  },
  {
   "cell_type": "raw",
   "id": "2b8cc077-0d5f-4395-b90c-c2a6754f61db",
   "metadata": {},
   "source": [
    "In Python, loops are employed to repeat a sequence of actions or code\n",
    "until a specific condition is fulfilled.\n",
    "Python offers two primary types of loops: for loops and while loops.\n",
    "“for” loops are used for iterating over a sequence of elements, while “while”\n",
    "loops are used for executing code until a specified condition becomes\n",
    "False\n",
    "Examples are :\n",
    "● While loop\n",
    "● For loop\n",
    "\n",
    "While Loop Use Cases:\n",
    "1. Indefinite Repetition (Until a Condition is Met):\n",
    "A while loop is ideal when you do not know in advance how many times you need to repeat an action, but you want to continue until a certain condition is met.\n",
    "Example: Waiting for user input to be valid\n",
    "2. Polling or Monitoring a Condition:\n",
    "You can use a while loop to continuously check the status of something, such as waiting for an external condition to change (e.g., a file becomes available).\n",
    "Example: Monitoring a sensor until a threshold is crossed.\n",
    "3. Game Loop:\n",
    "In many games, a while loop is used to keep the game running as long as a condition like \"game over\" hasn't been met.\n",
    "Example: Running a game loop until a player loses.\n",
    "4. Processing Until Resource is Exhausted:\n",
    "A while loop can also be used to process data until a resource is exhausted, such as reading from a file until the end is reached.\n",
    "Example: Reading lines from a file.\n",
    "\n",
    "For Loop Use Cases:\n",
    "1. Iterating Over a Sequence (Definite Repetition):\n",
    "A for loop is perfect when you know in advance how many times you need to repeat an operation. It can be used to iterate over lists, tuples, strings, or other iterable objects.\n",
    "Example: Looping through a list of items.\n",
    "2. Looping Through a Range of Numbers:\n",
    "for loops are often used to loop through a sequence of numbers.\n",
    "Example: Looping through a range of numbers from 1 to 10.\n",
    "3. Iterating Over Dictionary Keys/Values:\n",
    "for loops can be used to iterate over the keys and values of a dictionary.\n",
    "Example: Looping through a dictionary.\n",
    "4. List Comprehensions (Efficient Data Transformation):\n",
    "A for loop can be used to build a list in a compact form.\n",
    "Example: Creating a list of squares.\n",
    "5. Simulating Nested Loops for Combinations:\n",
    "for loops are useful for generating combinations or permutations.\n",
    "Example: Generating all pairs of elements"
   ]
  },
  {
   "cell_type": "code",
   "execution_count": 6,
   "id": "096d5cb3-8524-436e-9fff-a878f5a5bc11",
   "metadata": {},
   "outputs": [
    {
     "name": "stdout",
     "output_type": "stream",
     "text": [
      "Count is 1\n",
      "Count is 2\n",
      "Count is 3\n",
      "Count is 4\n",
      "Count is 5\n"
     ]
    }
   ],
   "source": [
    "#while loop example\n",
    "count = 1\n",
    "while count <= 5:\n",
    "    print(f\"Count is {count}\")\n",
    "    count += 1"
   ]
  },
  {
   "cell_type": "code",
   "execution_count": 7,
   "id": "3a4c98e2-4451-45e8-b271-ef7305f24845",
   "metadata": {},
   "outputs": [
    {
     "name": "stdout",
     "output_type": "stream",
     "text": [
      "Number 1\n",
      "Number 2\n",
      "Number 3\n",
      "Number 4\n",
      "Number 5\n"
     ]
    }
   ],
   "source": [
    "#for loop example\n",
    "for i in range(1, 6):\n",
    "    print(f\"Number {i}\")"
   ]
  }
 ],
 "metadata": {
  "kernelspec": {
   "display_name": "Python 3 (ipykernel)",
   "language": "python",
   "name": "python3"
  },
  "language_info": {
   "codemirror_mode": {
    "name": "ipython",
    "version": 3
   },
   "file_extension": ".py",
   "mimetype": "text/x-python",
   "name": "python",
   "nbconvert_exporter": "python",
   "pygments_lexer": "ipython3",
   "version": "3.12.6"
  }
 },
 "nbformat": 4,
 "nbformat_minor": 5
}
